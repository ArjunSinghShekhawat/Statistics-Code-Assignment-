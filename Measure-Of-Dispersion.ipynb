{
 "cells": [
  {
   "cell_type": "code",
   "execution_count": null,
   "id": "c79fb7ae-b762-4a4c-9476-47268d82468b",
   "metadata": {},
   "outputs": [],
   "source": [
    "Measure of Dispersion"
   ]
  },
  {
   "cell_type": "code",
   "execution_count": null,
   "id": "3c4b8cf7-897b-4fb4-92f6-50a387874317",
   "metadata": {},
   "outputs": [],
   "source": [
    "Measure of dispersion study about\n",
    "1.Variance\n",
    "2.Standard deviation\n",
    "\n",
    "1.Variance - Variance is define the sprade of data.\n",
    "std - std id define the 1 std how much data is include."
   ]
  }
 ],
 "metadata": {
  "kernelspec": {
   "display_name": "Python 3 (ipykernel)",
   "language": "python",
   "name": "python3"
  },
  "language_info": {
   "codemirror_mode": {
    "name": "ipython",
    "version": 3
   },
   "file_extension": ".py",
   "mimetype": "text/x-python",
   "name": "python",
   "nbconvert_exporter": "python",
   "pygments_lexer": "ipython3",
   "version": "3.10.8"
  }
 },
 "nbformat": 4,
 "nbformat_minor": 5
}
