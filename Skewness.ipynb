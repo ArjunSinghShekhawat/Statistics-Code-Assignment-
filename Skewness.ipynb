{
 "cells": [
  {
   "cell_type": "code",
   "execution_count": null,
   "id": "57aa725f-69a5-4478-a3ba-c1747fcdca4d",
   "metadata": {},
   "outputs": [],
   "source": [
    "Skewness "
   ]
  },
  {
   "cell_type": "code",
   "execution_count": null,
   "id": "8240c744-211b-4f44-88cb-844662f9d5de",
   "metadata": {},
   "outputs": [],
   "source": [
    "Defination - Skewness is define the data distribution .\n",
    "\n",
    "There are two types of skewness.\n",
    "1.Right skewness\n",
    "2.Left skewness\n",
    "\n",
    "1.Rifgt skewness - data distribution in right side.\n",
    "2.Left skewness - data distribution in left side.\n"
   ]
  }
 ],
 "metadata": {
  "kernelspec": {
   "display_name": "Python 3 (ipykernel)",
   "language": "python",
   "name": "python3"
  },
  "language_info": {
   "codemirror_mode": {
    "name": "ipython",
    "version": 3
   },
   "file_extension": ".py",
   "mimetype": "text/x-python",
   "name": "python",
   "nbconvert_exporter": "python",
   "pygments_lexer": "ipython3",
   "version": "3.10.8"
  }
 },
 "nbformat": 4,
 "nbformat_minor": 5
}
