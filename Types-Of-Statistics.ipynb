{
 "cells": [
  {
   "cell_type": "code",
   "execution_count": null,
   "id": "fa96d828-d276-43e5-a5e2-e997bed78ae3",
   "metadata": {},
   "outputs": [],
   "source": [
    "Types of Statistics."
   ]
  },
  {
   "cell_type": "code",
   "execution_count": null,
   "id": "59949489-b51e-47ce-8c6a-517cd482a884",
   "metadata": {},
   "outputs": [],
   "source": [
    "There are two types of statistics.\n",
    "1.Descriptive Statistics\n",
    "2.Inferential Statistics\n",
    "\n",
    "1.Descriptive Statistics - It Consists organizing and summarizing of data.\n",
    "2.Inferential Statistics - It consists of using data you have measured to form conclusion."
   ]
  }
 ],
 "metadata": {
  "kernelspec": {
   "display_name": "Python 3 (ipykernel)",
   "language": "python",
   "name": "python3"
  },
  "language_info": {
   "codemirror_mode": {
    "name": "ipython",
    "version": 3
   },
   "file_extension": ".py",
   "mimetype": "text/x-python",
   "name": "python",
   "nbconvert_exporter": "python",
   "pygments_lexer": "ipython3",
   "version": "3.10.8"
  }
 },
 "nbformat": 4,
 "nbformat_minor": 5
}
