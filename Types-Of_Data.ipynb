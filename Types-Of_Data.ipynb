{
 "cells": [
  {
   "cell_type": "code",
   "execution_count": null,
   "id": "97318f64-0ab7-4724-b453-e6dd7b59bf92",
   "metadata": {},
   "outputs": [],
   "source": [
    "Types of Data."
   ]
  },
  {
   "cell_type": "code",
   "execution_count": null,
   "id": "a6fee76f-dc41-4e4c-80d9-eba2f966c5fd",
   "metadata": {},
   "outputs": [],
   "source": [
    "There are two types of data.\n",
    "1.Qualitative data\n",
    "2.Quantitative data\n",
    "\n",
    "1.Qualitative data - There are further two types of data in this types.\n",
    "                     a. Nominal data\n",
    "                     b. Ordinal data\n",
    "2.Quantitative data - There are further two types of data in this types.\n",
    "                     a.Discrete data\n",
    "                     b.Continueus data\n",
    "Nominal Data - Include categorical data, and order or rank is not matter.\n",
    "Example - colours choice\n",
    "\n",
    "Ordinal Data - Include Categorical data , and order and rank is matter.\n",
    "Example - Customer feedback -> good,better,bed.\n",
    "\n",
    "Discrete data - Include whole number.\n",
    "Example - number of bank account,no of children.\n",
    "\n",
    "Continueus data - Include any number.\n",
    "Example - height of student,weight of person etc.\n"
   ]
  }
 ],
 "metadata": {
  "kernelspec": {
   "display_name": "Python 3 (ipykernel)",
   "language": "python",
   "name": "python3"
  },
  "language_info": {
   "codemirror_mode": {
    "name": "ipython",
    "version": 3
   },
   "file_extension": ".py",
   "mimetype": "text/x-python",
   "name": "python",
   "nbconvert_exporter": "python",
   "pygments_lexer": "ipython3",
   "version": "3.10.8"
  }
 },
 "nbformat": 4,
 "nbformat_minor": 5
}
