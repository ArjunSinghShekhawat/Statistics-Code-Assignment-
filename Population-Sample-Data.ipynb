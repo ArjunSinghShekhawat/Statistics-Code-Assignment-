{
 "cells": [
  {
   "cell_type": "code",
   "execution_count": null,
   "id": "4ed8bb95-f69f-4e4f-99e4-950c9ef89f97",
   "metadata": {},
   "outputs": [],
   "source": [
    "Difference between population and Sample data."
   ]
  },
  {
   "cell_type": "code",
   "execution_count": null,
   "id": "bd43e60f-37d8-460f-9664-dbbf5332c0b9",
   "metadata": {},
   "outputs": [],
   "source": [
    "Population Data - The group you are interested in study is called population data.\n",
    "Sample Data - Subset of population Data.\n",
    "\n",
    "Example - Exit poll"
   ]
  }
 ],
 "metadata": {
  "kernelspec": {
   "display_name": "Python 3 (ipykernel)",
   "language": "python",
   "name": "python3"
  },
  "language_info": {
   "codemirror_mode": {
    "name": "ipython",
    "version": 3
   },
   "file_extension": ".py",
   "mimetype": "text/x-python",
   "name": "python",
   "nbconvert_exporter": "python",
   "pygments_lexer": "ipython3",
   "version": "3.10.8"
  }
 },
 "nbformat": 4,
 "nbformat_minor": 5
}
