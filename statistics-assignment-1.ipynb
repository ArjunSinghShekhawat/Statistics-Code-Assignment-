{
 "cells": [
  {
   "cell_type": "markdown",
   "id": "4b9f202f-09de-4212-9dbe-133ff42447dc",
   "metadata": {},
   "source": [
    "Q1. What is Statistics?"
   ]
  },
  {
   "cell_type": "markdown",
   "id": "0fbf644d-5ba1-410d-b693-48d4c3a6b0b7",
   "metadata": {},
   "source": [
    "ans: Statistics is the science of collecting, orgenizing,and analyzing of data is called statistics."
   ]
  },
  {
   "cell_type": "markdown",
   "id": "7d010a6d-483c-447d-803d-92656ab16cb3",
   "metadata": {},
   "source": [
    "Q2. Define the different types of statistics and give an example of when each type might be used."
   ]
  },
  {
   "cell_type": "markdown",
   "id": "dc43fb8a-9749-4155-afc2-6c341d82ba48",
   "metadata": {},
   "source": [
    "There are two types of statistics types available.\n",
    "\n",
    "\n",
    "1.Descriptive statistics\n",
    "\n",
    "2.Inferential statistics\n",
    "\n",
    "\n",
    "1.Descriptive statistics - it consists of organizing and summarizing of data.\n",
    "\n",
    "2.Inferential statistics - It consists of using data you have measured to form conclusion.\n",
    "\n",
    "Example - \n",
    "\n",
    "\n",
    "1.descriptive statistics - the average height in the classroom.\n",
    "\n",
    "2.inferential statistics - the height of the students in which a am apply the all students height.in which data heights of students is sample data and the height of all students will be population data.\n"
   ]
  },
  {
   "cell_type": "markdown",
   "id": "25f7a940-8e11-4d38-8004-c41a20ef11ce",
   "metadata": {},
   "source": [
    "Q3. What are the different types of data and how do they differ from each other? Provide an example of\n",
    "each type of data."
   ]
  },
  {
   "cell_type": "markdown",
   "id": "aeef8413-3752-4488-a002-5f0e79b6b2a8",
   "metadata": {},
   "source": [
    "ans:There are two types of data .\n",
    "\n",
    "1.Quantitative data\n",
    "\n",
    "2.Qualitative data\n",
    "\n",
    "1.Quantitative data - In which data includes numerical data.There are two types of quantitative data available.\n",
    "\n",
    "\n",
    "a.Discrete data\n",
    "\n",
    "b.Continues data\n",
    "\n",
    "\n",
    "\n",
    "a.Discrete data - in which data include all whole value numbers data.\n",
    "\n",
    "Example - number of bank account,number of childeren,number of road accident.\n",
    "\n",
    "b.Continues data - in which data include any value.\n",
    "\n",
    "Example - speed of light,height,weight.\n",
    "\n",
    "\n",
    "2.Qualitative data -In which data includes categorical data.There are twi types of qualitative data available.\n",
    "\n",
    "a.nominal data\n",
    "\n",
    "b.ordinal data\n",
    "\n",
    "\n",
    "a.Nominal data - In which data include categorical data and in which data data order is not measure or maintain.\n",
    "\n",
    "Example - blood group.\n",
    "\n",
    "b.Ordinal data - In which data includes categorical data and in which data order is important and measure.\n",
    "\n",
    "Example - customer feedback good,better,and bed."
   ]
  },
  {
   "cell_type": "markdown",
   "id": "3d71c6e2-f749-41d6-a179-1e75ce1a1bff",
   "metadata": {},
   "source": [
    "Q4. Categorise the following datasets with respect to quantitative and qualitative data types:\n",
    "\n",
    "(i) Grading in exam: A+, A, B+, B, C+, C, D, E\n",
    "\n",
    "(ii) Colour of mangoes: yellow, green, orange, red\n",
    "\n",
    "(iii) Height data of a class: [178.9, 179, 179.5, 176, 177.2, 178.3, 175.8,...]\n",
    "\n",
    "(iv) Number of mangoes exported by a farm: [500, 600, 478, 672, ...]"
   ]
  },
  {
   "cell_type": "markdown",
   "id": "1ba11417-8f3d-4d5c-8b28-45c0d6d8532c",
   "metadata": {},
   "source": [
    "ans:1.Grading in exam: A+, A, B+, B, C+, C, D, E -> ordinal data\n",
    "\n",
    "2.Colour of mangoes: yellow, green, orange, red ->nominal data\n",
    "\n",
    "3.Height data of a class: [178.9, 179, 179.5, 176, 177.2, 178.3, 175.8,...] ->continues data\n",
    "\n",
    "4.Number of mangoes exported by a farm: [500, 600, 478, 672, ...] ->Discrete data"
   ]
  },
  {
   "cell_type": "markdown",
   "id": "0a4a307e-b9f3-4ba6-8e31-3f27d73bbe67",
   "metadata": {},
   "source": [
    "Q5. Explain the concept of levels of measurement and give an example of a variable for each level."
   ]
  },
  {
   "cell_type": "markdown",
   "id": "2b268b58-f2dd-4b5b-8612-9087ef1134dc",
   "metadata": {},
   "source": [
    "Q7. How nominal data type is different from ordinal data type."
   ]
  },
  {
   "cell_type": "markdown",
   "id": "19c805ae-ef07-4320-849c-7a3f23b187cb",
   "metadata": {},
   "source": [
    "Nominal data is different to ordinal data because in ordinal data data order is maintaine and measure but in nominal data the order of data is not important and not measure therefore the nominal data different t ordinal data."
   ]
  },
  {
   "cell_type": "markdown",
   "id": "507acab4-68ab-416c-914c-220e617e9828",
   "metadata": {},
   "source": [
    "Q8. Which type of plot can be used to display data in terms of range?"
   ]
  },
  {
   "cell_type": "markdown",
   "id": "6c69e92a-d804-4de8-8c5c-feaa51a49783",
   "metadata": {},
   "source": [
    "Ans -> box plot "
   ]
  },
  {
   "cell_type": "markdown",
   "id": "87eb058f-801c-48d5-b290-fdc3444c76b6",
   "metadata": {},
   "source": [
    "Q9. Describe the difference between descriptive and inferential statistics. Give an example of each\n",
    "type of statistics and explain how they are used."
   ]
  },
  {
   "cell_type": "markdown",
   "id": "1673553e-b662-47e2-af09-52cd769e5777",
   "metadata": {},
   "source": [
    "ans:Descriptive statistics - it consists organizing and summarizing of data.\n",
    "\n",
    "Inferential statistic - it consists of using data you have measured to form conclusion.\n",
    "\n",
    "1.descriptive statistics - the average height in the classroom.\n",
    "\n",
    "2.inferential statistics - the height of the students in which a am apply the all students height.in which data heights of students is sample data and the height of all students will be population data.\n",
    "\n",
    "how they are used ?\n",
    "\n",
    "in descriptive statistics used centeral tendency method , and measure of despersion and different types of distribution.\n",
    "\n",
    "in inferential statistics used z-test,t-test, and chi test and more on .\n"
   ]
  },
  {
   "cell_type": "markdown",
   "id": "4213e5f3-96ae-41b6-841f-c62ec0088b52",
   "metadata": {},
   "source": [
    "Q10. What are some common measures of central tendency and variability used in statistics? Explain\n",
    "how each measure can be used to describe a dataset."
   ]
  },
  {
   "cell_type": "markdown",
   "id": "f5a2671a-d823-4970-82b4-a639dfd09c50",
   "metadata": {},
   "source": [
    "The some common measure of central tendency .\n",
    "mean , meadian , mode \n",
    "\n",
    "mean - > mean is used to calculate the average in the dtaset.Suppose check the average student test marks then used the mean concept.\n",
    "\n",
    "meadian -> meadian is used to calculate the average when outlier is present in data set.\n",
    "\n",
    "mode -> moe is used to calculate the frequency of data .\n",
    "\n"
   ]
  },
  {
   "cell_type": "code",
   "execution_count": null,
   "id": "95de3a42-cfb0-496c-bf34-40f906cb8bc6",
   "metadata": {},
   "outputs": [],
   "source": []
  }
 ],
 "metadata": {
  "kernelspec": {
   "display_name": "Python 3 (ipykernel)",
   "language": "python",
   "name": "python3"
  },
  "language_info": {
   "codemirror_mode": {
    "name": "ipython",
    "version": 3
   },
   "file_extension": ".py",
   "mimetype": "text/x-python",
   "name": "python",
   "nbconvert_exporter": "python",
   "pygments_lexer": "ipython3",
   "version": "3.10.8"
  }
 },
 "nbformat": 4,
 "nbformat_minor": 5
}
