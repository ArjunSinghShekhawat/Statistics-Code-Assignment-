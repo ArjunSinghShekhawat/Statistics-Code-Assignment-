{
 "cells": [
  {
   "cell_type": "code",
   "execution_count": null,
   "id": "f0efa253-a2ac-4c47-bf5d-3e520e00e5c5",
   "metadata": {},
   "outputs": [],
   "source": [
    "Scale Of Measurement."
   ]
  },
  {
   "cell_type": "code",
   "execution_count": null,
   "id": "517aefb5-a4f4-4cf5-a664-a82f3aeee030",
   "metadata": {},
   "outputs": [],
   "source": [
    "There are four types of scale measurement.\n",
    "\n",
    "1.Nominal scale\n",
    "2.Ordinal scale\n",
    "3.Interval scale\n",
    "4.Ratio scale\n",
    "\n",
    "1.Nominal scale -:\n",
    "    \n",
    "Order is not matter\n",
    "Categorical Data\n",
    "\n",
    "Example - favorite color\n",
    "\n",
    "2.Ordinal Data - \n",
    "\n",
    "Order is matter\n",
    "Rank is matter\n",
    "Difference can not be measure\n",
    "\n",
    "Example - customer feedback rank 1,2,3,4,5.\n",
    "\n",
    "3.Interval Scale -\n",
    "\n",
    "order is matter\n",
    "difference can be measure\n",
    "ratio can not be measure\n",
    "not 0 starting point\n",
    "\n",
    "Example - Temp of different state.\n",
    "\n",
    "4.Ratio Scale -\n",
    "\n",
    "order can be measure\n",
    "difference and ratio can be measure\n",
    "0 Starting point\n",
    "\n",
    "Example - students marks.\n",
    "\n"
   ]
  }
 ],
 "metadata": {
  "kernelspec": {
   "display_name": "Python 3 (ipykernel)",
   "language": "python",
   "name": "python3"
  },
  "language_info": {
   "codemirror_mode": {
    "name": "ipython",
    "version": 3
   },
   "file_extension": ".py",
   "mimetype": "text/x-python",
   "name": "python",
   "nbconvert_exporter": "python",
   "pygments_lexer": "ipython3",
   "version": "3.10.8"
  }
 },
 "nbformat": 4,
 "nbformat_minor": 5
}
