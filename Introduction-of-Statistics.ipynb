{
 "cells": [
  {
   "cell_type": "code",
   "execution_count": null,
   "id": "12707486-f3df-4719-a41c-7a0dc768fa3c",
   "metadata": {},
   "outputs": [],
   "source": [
    "Introduction of Statistics."
   ]
  },
  {
   "cell_type": "code",
   "execution_count": null,
   "id": "2c302f55-974b-40e2-b3de-917da47aa9b5",
   "metadata": {},
   "outputs": [],
   "source": [
    "\"\"\"Defination -> Statistics-> Statistics is the mathematical science in which includes method of collection,organizing and analyzing Data in \n",
    "such a mat that meaningfull conclusion can be made.\n",
    "\n",
    "Defination -> Data - Data is a facts and pieces of information that can be store and measure and retrive it again.\n",
    "Example -: Height of Students in classroom.\n",
    "\n",
    "collection,organizing, and analyzing help in decision making.\"\"\""
   ]
  }
 ],
 "metadata": {
  "kernelspec": {
   "display_name": "Python 3 (ipykernel)",
   "language": "python",
   "name": "python3"
  },
  "language_info": {
   "codemirror_mode": {
    "name": "ipython",
    "version": 3
   },
   "file_extension": ".py",
   "mimetype": "text/x-python",
   "name": "python",
   "nbconvert_exporter": "python",
   "pygments_lexer": "ipython3",
   "version": "3.10.8"
  }
 },
 "nbformat": 4,
 "nbformat_minor": 5
}
