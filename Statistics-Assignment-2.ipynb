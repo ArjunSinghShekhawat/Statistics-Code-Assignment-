{
 "cells": [
  {
   "cell_type": "markdown",
   "id": "97b18c37-09e2-4ce9-af1c-43640e07f8bb",
   "metadata": {},
   "source": [
    "Q1. What are the three measures of central tendency?"
   ]
  },
  {
   "cell_type": "markdown",
   "id": "844834a2-3f2f-4dc0-91ef-114a0029c0fe",
   "metadata": {},
   "source": [
    "ans: Mean,Meadian,Mode "
   ]
  },
  {
   "cell_type": "markdown",
   "id": "8a4089e8-231f-47c7-9436-9a088d489933",
   "metadata": {},
   "source": [
    "Q2. What is the difference between the mean, median, and mode? How are they used to measure the\n",
    "central tendency of a dataset?"
   ]
  },
  {
   "cell_type": "markdown",
   "id": "2836f34e-c32c-4045-9bee-390140b79cc8",
   "metadata": {},
   "source": [
    "ans:Mean = Mean is calculate the average and central point of the dataset.\n",
    "\n",
    "Meadian = Meadian is used to calculate the average and central point in the data set when out;ier is present.\n",
    "\n",
    "Mode = Mode is used to find out the frequency of the number and it is used in categorical dataset"
   ]
  },
  {
   "cell_type": "code",
   "execution_count": 2,
   "id": "71336024-95b4-4b65-9c58-b0f15fe72bbb",
   "metadata": {},
   "outputs": [],
   "source": [
    "student_marks = [45,12,78,96,45,35,45,78,85,45,96,35,75,45,12,35,85,74,65,98,75]\n",
    "import numpy as np"
   ]
  },
  {
   "cell_type": "code",
   "execution_count": 3,
   "id": "c468254b-e28f-44bb-b71a-f689bd39396f",
   "metadata": {},
   "outputs": [
    {
     "data": {
      "text/plain": [
       "59.95238095238095"
      ]
     },
     "execution_count": 3,
     "metadata": {},
     "output_type": "execute_result"
    }
   ],
   "source": [
    "np.mean(student_marks)"
   ]
  },
  {
   "cell_type": "code",
   "execution_count": 7,
   "id": "95ae446d-ae79-4a5d-ac24-23253028a57f",
   "metadata": {},
   "outputs": [
    {
     "data": {
      "text/plain": [
       "65.0"
      ]
     },
     "execution_count": 7,
     "metadata": {},
     "output_type": "execute_result"
    }
   ],
   "source": [
    "np.median(student_marks)"
   ]
  },
  {
   "cell_type": "code",
   "execution_count": 9,
   "id": "4c27fb31-bf9f-4f16-80c0-afe37923674d",
   "metadata": {},
   "outputs": [],
   "source": [
    "from scipy import stats"
   ]
  },
  {
   "cell_type": "code",
   "execution_count": 10,
   "id": "91ab0447-12ac-4adc-aaa4-cc50833638cf",
   "metadata": {},
   "outputs": [
    {
     "name": "stderr",
     "output_type": "stream",
     "text": [
      "/tmp/ipykernel_84/86833959.py:1: FutureWarning: Unlike other reduction functions (e.g. `skew`, `kurtosis`), the default behavior of `mode` typically preserves the axis it acts along. In SciPy 1.11.0, this behavior will change: the default value of `keepdims` will become False, the `axis` over which the statistic is taken will be eliminated, and the value None will no longer be accepted. Set `keepdims` to True or False to avoid this warning.\n",
      "  stats.mode(student_marks)\n"
     ]
    },
    {
     "data": {
      "text/plain": [
       "ModeResult(mode=array([45]), count=array([5]))"
      ]
     },
     "execution_count": 10,
     "metadata": {},
     "output_type": "execute_result"
    }
   ],
   "source": [
    "stats.mode(student_marks)"
   ]
  },
  {
   "cell_type": "markdown",
   "id": "d1e48c57-5e6e-4d9a-a2cd-2c227c580a74",
   "metadata": {},
   "source": [
    "Q3. Measure the three measures of central tendency for the given height data:\n",
    "[178,177,176,177,178.2,178,175,179,180,175,178.9,176.2,177,172.5,178,176.5]"
   ]
  },
  {
   "cell_type": "markdown",
   "id": "0d539f79-0f45-464f-9692-ff27fb0bcd23",
   "metadata": {},
   "source": [
    "ans:-"
   ]
  },
  {
   "cell_type": "code",
   "execution_count": 11,
   "id": "8935ea41-feee-4e3f-801d-5a1e08bf86cc",
   "metadata": {},
   "outputs": [
    {
     "data": {
      "text/plain": [
       "177.01875"
      ]
     },
     "execution_count": 11,
     "metadata": {},
     "output_type": "execute_result"
    }
   ],
   "source": [
    "np.mean([178,177,176,177,178.2,178,175,179,180,175,178.9,176.2,177,172.5,178,176.5])"
   ]
  },
  {
   "cell_type": "code",
   "execution_count": 12,
   "id": "8548b7ea-54bb-4011-8a22-68465cc6b586",
   "metadata": {},
   "outputs": [
    {
     "data": {
      "text/plain": [
       "177.0"
      ]
     },
     "execution_count": 12,
     "metadata": {},
     "output_type": "execute_result"
    }
   ],
   "source": [
    "np.median([178,177,176,177,178.2,178,175,179,180,175,178.9,176.2,177,172.5,178,176.5])"
   ]
  },
  {
   "cell_type": "code",
   "execution_count": 13,
   "id": "e36ab1b0-559b-4a6b-b8ec-b2601ac9a248",
   "metadata": {},
   "outputs": [
    {
     "name": "stderr",
     "output_type": "stream",
     "text": [
      "/tmp/ipykernel_84/1277399567.py:1: FutureWarning: Unlike other reduction functions (e.g. `skew`, `kurtosis`), the default behavior of `mode` typically preserves the axis it acts along. In SciPy 1.11.0, this behavior will change: the default value of `keepdims` will become False, the `axis` over which the statistic is taken will be eliminated, and the value None will no longer be accepted. Set `keepdims` to True or False to avoid this warning.\n",
      "  stats.mode([178,177,176,177,178.2,178,175,179,180,175,178.9,176.2,177,172.5,178,176.5])\n"
     ]
    },
    {
     "data": {
      "text/plain": [
       "ModeResult(mode=array([177.]), count=array([3]))"
      ]
     },
     "execution_count": 13,
     "metadata": {},
     "output_type": "execute_result"
    }
   ],
   "source": [
    "stats.mode([178,177,176,177,178.2,178,175,179,180,175,178.9,176.2,177,172.5,178,176.5])"
   ]
  },
  {
   "cell_type": "markdown",
   "id": "73d8f3fd-3d31-4fa9-95ef-6c8996c6fc88",
   "metadata": {},
   "source": [
    "Q4. Find the standard deviation for the given data:\n",
    "\n",
    "[178,177,176,177,178.2,178,175,179,180,175,178.9,176.2,177,172.5,178,176.5]"
   ]
  },
  {
   "cell_type": "markdown",
   "id": "f1a227a5-e5f9-44cf-b883-0ba925e446c4",
   "metadata": {},
   "source": [
    "ans-:"
   ]
  },
  {
   "cell_type": "code",
   "execution_count": 14,
   "id": "962bf538-63ea-41ab-be5d-19004770e5e0",
   "metadata": {},
   "outputs": [
    {
     "data": {
      "text/plain": [
       "1.7885814036548633"
      ]
     },
     "execution_count": 14,
     "metadata": {},
     "output_type": "execute_result"
    }
   ],
   "source": [
    "np.std([178,177,176,177,178.2,178,175,179,180,175,178.9,176.2,177,172.5,178,176.5])"
   ]
  },
  {
   "cell_type": "markdown",
   "id": "a0a74787-0ef4-41b4-b17a-1ee03c68a998",
   "metadata": {},
   "source": [
    "Q5. How are measures of dispersion such as range, variance, and standard deviation used to describe\n",
    "the spread of a dataset? Provide an example."
   ]
  },
  {
   "cell_type": "code",
   "execution_count": 2,
   "id": "ea1336ca-46f7-4952-81a5-efecf9ad1662",
   "metadata": {},
   "outputs": [],
   "source": [
    "import pandas as pd"
   ]
  },
  {
   "cell_type": "code",
   "execution_count": 3,
   "id": "38a70045-dbcd-414e-9774-4b2b34ecf034",
   "metadata": {},
   "outputs": [],
   "source": [
    "import seaborn as sns"
   ]
  },
  {
   "cell_type": "code",
   "execution_count": 4,
   "id": "09ac0d33-bff7-48e0-9532-2d6f05ce633c",
   "metadata": {},
   "outputs": [],
   "source": [
    "df = sns.load_dataset('tips')"
   ]
  },
  {
   "cell_type": "code",
   "execution_count": 5,
   "id": "3b82ea79-3a89-48d4-820e-f2d9bfa78684",
   "metadata": {},
   "outputs": [
    {
     "data": {
      "text/html": [
       "<div>\n",
       "<style scoped>\n",
       "    .dataframe tbody tr th:only-of-type {\n",
       "        vertical-align: middle;\n",
       "    }\n",
       "\n",
       "    .dataframe tbody tr th {\n",
       "        vertical-align: top;\n",
       "    }\n",
       "\n",
       "    .dataframe thead th {\n",
       "        text-align: right;\n",
       "    }\n",
       "</style>\n",
       "<table border=\"1\" class=\"dataframe\">\n",
       "  <thead>\n",
       "    <tr style=\"text-align: right;\">\n",
       "      <th></th>\n",
       "      <th>total_bill</th>\n",
       "      <th>tip</th>\n",
       "      <th>sex</th>\n",
       "      <th>smoker</th>\n",
       "      <th>day</th>\n",
       "      <th>time</th>\n",
       "      <th>size</th>\n",
       "    </tr>\n",
       "  </thead>\n",
       "  <tbody>\n",
       "    <tr>\n",
       "      <th>0</th>\n",
       "      <td>16.99</td>\n",
       "      <td>1.01</td>\n",
       "      <td>Female</td>\n",
       "      <td>No</td>\n",
       "      <td>Sun</td>\n",
       "      <td>Dinner</td>\n",
       "      <td>2</td>\n",
       "    </tr>\n",
       "    <tr>\n",
       "      <th>1</th>\n",
       "      <td>10.34</td>\n",
       "      <td>1.66</td>\n",
       "      <td>Male</td>\n",
       "      <td>No</td>\n",
       "      <td>Sun</td>\n",
       "      <td>Dinner</td>\n",
       "      <td>3</td>\n",
       "    </tr>\n",
       "    <tr>\n",
       "      <th>2</th>\n",
       "      <td>21.01</td>\n",
       "      <td>3.50</td>\n",
       "      <td>Male</td>\n",
       "      <td>No</td>\n",
       "      <td>Sun</td>\n",
       "      <td>Dinner</td>\n",
       "      <td>3</td>\n",
       "    </tr>\n",
       "    <tr>\n",
       "      <th>3</th>\n",
       "      <td>23.68</td>\n",
       "      <td>3.31</td>\n",
       "      <td>Male</td>\n",
       "      <td>No</td>\n",
       "      <td>Sun</td>\n",
       "      <td>Dinner</td>\n",
       "      <td>2</td>\n",
       "    </tr>\n",
       "    <tr>\n",
       "      <th>4</th>\n",
       "      <td>24.59</td>\n",
       "      <td>3.61</td>\n",
       "      <td>Female</td>\n",
       "      <td>No</td>\n",
       "      <td>Sun</td>\n",
       "      <td>Dinner</td>\n",
       "      <td>4</td>\n",
       "    </tr>\n",
       "  </tbody>\n",
       "</table>\n",
       "</div>"
      ],
      "text/plain": [
       "   total_bill   tip     sex smoker  day    time  size\n",
       "0       16.99  1.01  Female     No  Sun  Dinner     2\n",
       "1       10.34  1.66    Male     No  Sun  Dinner     3\n",
       "2       21.01  3.50    Male     No  Sun  Dinner     3\n",
       "3       23.68  3.31    Male     No  Sun  Dinner     2\n",
       "4       24.59  3.61  Female     No  Sun  Dinner     4"
      ]
     },
     "execution_count": 5,
     "metadata": {},
     "output_type": "execute_result"
    }
   ],
   "source": [
    "df.head()"
   ]
  },
  {
   "cell_type": "code",
   "execution_count": 6,
   "id": "a88cde26-2b10-414c-8b65-56b59e6fb2d7",
   "metadata": {},
   "outputs": [
    {
     "ename": "NameError",
     "evalue": "name 'np' is not defined",
     "output_type": "error",
     "traceback": [
      "\u001b[0;31m---------------------------------------------------------------------------\u001b[0m",
      "\u001b[0;31mNameError\u001b[0m                                 Traceback (most recent call last)",
      "Cell \u001b[0;32mIn[6], line 2\u001b[0m\n\u001b[1;32m      1\u001b[0m \u001b[38;5;66;03m#varianve\u001b[39;00m\n\u001b[0;32m----> 2\u001b[0m \u001b[43mnp\u001b[49m\u001b[38;5;241m.\u001b[39mvar(df[\u001b[38;5;124m'\u001b[39m\u001b[38;5;124mtotal_bill\u001b[39m\u001b[38;5;124m'\u001b[39m])\n",
      "\u001b[0;31mNameError\u001b[0m: name 'np' is not defined"
     ]
    }
   ],
   "source": [
    "#varianve\n",
    "np.var(df['total_bill'])"
   ]
  },
  {
   "cell_type": "code",
   "execution_count": 7,
   "id": "e57c9c55-be48-453d-ae68-8e0bb392bef0",
   "metadata": {},
   "outputs": [
    {
     "name": "stderr",
     "output_type": "stream",
     "text": [
      "/tmp/ipykernel_807/1568254755.py:1: FutureWarning: The default value of numeric_only in DataFrame.var is deprecated. In a future version, it will default to False. In addition, specifying 'numeric_only=None' is deprecated. Select only valid columns or specify the value of numeric_only to silence this warning.\n",
      "  df.var()\n"
     ]
    },
    {
     "data": {
      "text/plain": [
       "total_bill    79.252939\n",
       "tip            1.914455\n",
       "size           0.904591\n",
       "dtype: float64"
      ]
     },
     "execution_count": 7,
     "metadata": {},
     "output_type": "execute_result"
    }
   ],
   "source": [
    "df.var()"
   ]
  },
  {
   "cell_type": "code",
   "execution_count": 8,
   "id": "41c50858-5838-4e7c-8bf5-992b80b9f8b4",
   "metadata": {},
   "outputs": [
    {
     "name": "stderr",
     "output_type": "stream",
     "text": [
      "/tmp/ipykernel_807/307653901.py:1: FutureWarning: Dropping of nuisance columns in DataFrame reductions (with 'numeric_only=None') is deprecated; in a future version this will raise TypeError.  Select only valid columns before calling the reduction.\n",
      "  df.var(axis = 1)\n"
     ]
    },
    {
     "data": {
      "text/plain": [
       "0       80.173433\n",
       "1       21.835600\n",
       "2      105.201700\n",
       "3      147.779233\n",
       "4      144.043433\n",
       "          ...    \n",
       "239    203.359900\n",
       "240    211.344133\n",
       "241    142.416300\n",
       "242     84.763300\n",
       "243     88.596133\n",
       "Length: 244, dtype: float64"
      ]
     },
     "execution_count": 8,
     "metadata": {},
     "output_type": "execute_result"
    }
   ],
   "source": [
    "df.var(axis = 1)"
   ]
  },
  {
   "cell_type": "code",
   "execution_count": 9,
   "id": "5a9ec89b-9c30-48c0-99d7-1052b3340950",
   "metadata": {},
   "outputs": [
    {
     "name": "stderr",
     "output_type": "stream",
     "text": [
      "/tmp/ipykernel_807/3390915376.py:1: FutureWarning: The default value of numeric_only in DataFrame.std is deprecated. In a future version, it will default to False. In addition, specifying 'numeric_only=None' is deprecated. Select only valid columns or specify the value of numeric_only to silence this warning.\n",
      "  df.std()\n"
     ]
    },
    {
     "data": {
      "text/plain": [
       "total_bill    8.902412\n",
       "tip           1.383638\n",
       "size          0.951100\n",
       "dtype: float64"
      ]
     },
     "execution_count": 9,
     "metadata": {},
     "output_type": "execute_result"
    }
   ],
   "source": [
    "df.std()"
   ]
  },
  {
   "cell_type": "code",
   "execution_count": 10,
   "id": "913a35e7-a8fd-4f13-958c-03d86ab22d9c",
   "metadata": {},
   "outputs": [
    {
     "name": "stderr",
     "output_type": "stream",
     "text": [
      "/tmp/ipykernel_807/596174733.py:1: FutureWarning: The default value of numeric_only in DataFrame.min is deprecated. In a future version, it will default to False. In addition, specifying 'numeric_only=None' is deprecated. Select only valid columns or specify the value of numeric_only to silence this warning.\n",
      "  total_bill_min ,tip_min,size_min = df.min()\n"
     ]
    }
   ],
   "source": [
    "total_bill_min ,tip_min,size_min = df.min()"
   ]
  },
  {
   "cell_type": "code",
   "execution_count": 11,
   "id": "416336f3-ff3f-4220-9647-5996fe2802b3",
   "metadata": {},
   "outputs": [
    {
     "name": "stderr",
     "output_type": "stream",
     "text": [
      "/tmp/ipykernel_807/2182410917.py:1: FutureWarning: The default value of numeric_only in DataFrame.max is deprecated. In a future version, it will default to False. In addition, specifying 'numeric_only=None' is deprecated. Select only valid columns or specify the value of numeric_only to silence this warning.\n",
      "  total_bill_max,tip_max,size_max = df.max()\n"
     ]
    }
   ],
   "source": [
    "total_bill_max,tip_max,size_max = df.max()"
   ]
  },
  {
   "cell_type": "code",
   "execution_count": 12,
   "id": "b68ca18c-a564-46b8-96d8-740cfe8a7628",
   "metadata": {},
   "outputs": [],
   "source": [
    "range_of_total_bill = total_bill_max-total_bill_min"
   ]
  },
  {
   "cell_type": "code",
   "execution_count": 13,
   "id": "13e7823f-5647-4ec6-966a-18f85f923e62",
   "metadata": {},
   "outputs": [
    {
     "data": {
      "text/plain": [
       "47.74"
      ]
     },
     "execution_count": 13,
     "metadata": {},
     "output_type": "execute_result"
    }
   ],
   "source": [
    "range_of_total_bill"
   ]
  },
  {
   "cell_type": "code",
   "execution_count": 14,
   "id": "0f7aa51d-2984-438c-87bc-0104fbb936d1",
   "metadata": {},
   "outputs": [
    {
     "data": {
      "text/plain": [
       "50.81"
      ]
     },
     "execution_count": 14,
     "metadata": {},
     "output_type": "execute_result"
    }
   ],
   "source": [
    "total_bill_max"
   ]
  },
  {
   "cell_type": "code",
   "execution_count": 15,
   "id": "37783309-be39-4ada-aa23-e366c04d376f",
   "metadata": {},
   "outputs": [
    {
     "data": {
      "text/plain": [
       "50.81"
      ]
     },
     "execution_count": 15,
     "metadata": {},
     "output_type": "execute_result"
    }
   ],
   "source": [
    "total_bill_max"
   ]
  },
  {
   "cell_type": "code",
   "execution_count": 16,
   "id": "eadd5730-b81c-492e-8c8b-2417918ddd09",
   "metadata": {},
   "outputs": [
    {
     "data": {
      "text/plain": [
       "3.07"
      ]
     },
     "execution_count": 16,
     "metadata": {},
     "output_type": "execute_result"
    }
   ],
   "source": [
    "total_bill_min"
   ]
  },
  {
   "cell_type": "code",
   "execution_count": 17,
   "id": "dbfa16cb-4a70-4282-828c-5cd0fa0a75eb",
   "metadata": {},
   "outputs": [],
   "source": [
    "range_of_tips = tip_max-tip_min"
   ]
  },
  {
   "cell_type": "code",
   "execution_count": 18,
   "id": "56db7a34-d4b7-42d1-a8fb-8c804547b3c2",
   "metadata": {},
   "outputs": [
    {
     "data": {
      "text/plain": [
       "9.0"
      ]
     },
     "execution_count": 18,
     "metadata": {},
     "output_type": "execute_result"
    }
   ],
   "source": [
    "range_of_tips"
   ]
  },
  {
   "cell_type": "code",
   "execution_count": 19,
   "id": "705b59da-fa8f-4759-9a27-34bb0c01b606",
   "metadata": {},
   "outputs": [],
   "source": [
    "range_of_size = size_max-size_min"
   ]
  },
  {
   "cell_type": "code",
   "execution_count": 20,
   "id": "a5ac79c5-3ecb-42c5-b095-798a0d70ba6e",
   "metadata": {},
   "outputs": [
    {
     "data": {
      "text/plain": [
       "5.0"
      ]
     },
     "execution_count": 20,
     "metadata": {},
     "output_type": "execute_result"
    }
   ],
   "source": [
    "range_of_size"
   ]
  },
  {
   "cell_type": "markdown",
   "id": "11d89317-a27f-49d4-8699-038e3142daf8",
   "metadata": {},
   "source": [
    "Q6. What is a Venn diagram?"
   ]
  },
  {
   "cell_type": "markdown",
   "id": "ad3eec6a-dc5a-45fd-a3a4-78757085b3e2",
   "metadata": {},
   "source": [
    "ans :Diagramatically representation of relationship between two sets."
   ]
  },
  {
   "cell_type": "markdown",
   "id": "0ff4b545-9fb3-4cbb-a95a-63104ebe202b",
   "metadata": {},
   "source": [
    "Q7. For the two given sets A = (2,3,4,5,6,7) & B = (0,2,6,8,10). Find:\n",
    "\n",
    "(i) A ∩ B\n",
    "\n",
    "(ii) A ⋃ B\n"
   ]
  },
  {
   "cell_type": "markdown",
   "id": "09e67979-19fd-47fa-94dd-9a2786977378",
   "metadata": {},
   "source": [
    "i . A ∩ B = 2,6\n",
    "\n",
    "ii. AUB = 0,2,3,4,5,6,78,10"
   ]
  },
  {
   "cell_type": "markdown",
   "id": "a3c02955-0088-4df4-8d09-808be3c54c07",
   "metadata": {},
   "source": [
    "Q8. What do you understand about skewness in data?"
   ]
  },
  {
   "cell_type": "markdown",
   "id": "41c38dac-f961-4869-abe0-15cae1acdc96",
   "metadata": {},
   "source": [
    "ans Skewness is define the data distribution. The data is stmmetric then normal distribution and mean=meadian=mode is equal.\n",
    "\n",
    "right skewness mean large data is distributed in the right side. mean>=meadian>=mode\n",
    "\n",
    "left skewness means large data is distributed in left side .mean<=meadian<=mode"
   ]
  },
  {
   "cell_type": "markdown",
   "id": "5704410e-c0fe-4c18-94ef-5da8e6393e2b",
   "metadata": {},
   "source": [
    "Q9. If a data is right skewed then what will be the position of median with respect to mean?"
   ]
  },
  {
   "cell_type": "markdown",
   "id": "06beaf6b-3ffa-4b12-8d92-46500421e2ae",
   "metadata": {},
   "source": [
    "ans when data is right skewed means positive skewed and mean>=meadian>=mode."
   ]
  },
  {
   "cell_type": "markdown",
   "id": "d7a5cd21-b422-4a44-821a-fa27afd6d853",
   "metadata": {},
   "source": [
    "Q10. Explain the difference between covariance and correlation. How are these measures used in\n",
    "statistical analysis?"
   ]
  },
  {
   "cell_type": "markdown",
   "id": "1c062622-26ec-4362-ac5b-6a31e6826f6c",
   "metadata": {},
   "source": [
    "covariance - covariance is calculate the relationship between two points and given relationship like positive and negative covarianve.\n",
    "\n",
    "correlation - correlation is calculate the relationship between two points within a range -1 to 1 and given relationship within a dataset.\n",
    "\n",
    "both are used in statical analysis because it is define relationship between two datasets and it is help in machine  learning precdiction."
   ]
  },
  {
   "cell_type": "markdown",
   "id": "2699c8ba-dc76-4e11-a4f1-411e3298f9d9",
   "metadata": {},
   "source": [
    "Q11. What is the formula for calculating the sample mean? Provide an example calculation for a\n",
    "dataset."
   ]
  },
  {
   "cell_type": "markdown",
   "id": "01a8bd7d-9087-4c1b-9d56-894817b06eda",
   "metadata": {},
   "source": [
    "ans - mean = Sample Mean (x̄) = i=0 to n Σxi / n"
   ]
  },
  {
   "cell_type": "code",
   "execution_count": 24,
   "id": "6b9d7892-ebbe-4f4b-9050-b4e79d139704",
   "metadata": {},
   "outputs": [],
   "source": [
    "df = sns.load_dataset('titanic')"
   ]
  },
  {
   "cell_type": "code",
   "execution_count": 25,
   "id": "0c3d8296-aba9-4454-a676-47a54284b2e5",
   "metadata": {},
   "outputs": [
    {
     "data": {
      "text/html": [
       "<div>\n",
       "<style scoped>\n",
       "    .dataframe tbody tr th:only-of-type {\n",
       "        vertical-align: middle;\n",
       "    }\n",
       "\n",
       "    .dataframe tbody tr th {\n",
       "        vertical-align: top;\n",
       "    }\n",
       "\n",
       "    .dataframe thead th {\n",
       "        text-align: right;\n",
       "    }\n",
       "</style>\n",
       "<table border=\"1\" class=\"dataframe\">\n",
       "  <thead>\n",
       "    <tr style=\"text-align: right;\">\n",
       "      <th></th>\n",
       "      <th>survived</th>\n",
       "      <th>pclass</th>\n",
       "      <th>sex</th>\n",
       "      <th>age</th>\n",
       "      <th>sibsp</th>\n",
       "      <th>parch</th>\n",
       "      <th>fare</th>\n",
       "      <th>embarked</th>\n",
       "      <th>class</th>\n",
       "      <th>who</th>\n",
       "      <th>adult_male</th>\n",
       "      <th>deck</th>\n",
       "      <th>embark_town</th>\n",
       "      <th>alive</th>\n",
       "      <th>alone</th>\n",
       "    </tr>\n",
       "  </thead>\n",
       "  <tbody>\n",
       "    <tr>\n",
       "      <th>0</th>\n",
       "      <td>0</td>\n",
       "      <td>3</td>\n",
       "      <td>male</td>\n",
       "      <td>22.0</td>\n",
       "      <td>1</td>\n",
       "      <td>0</td>\n",
       "      <td>7.2500</td>\n",
       "      <td>S</td>\n",
       "      <td>Third</td>\n",
       "      <td>man</td>\n",
       "      <td>True</td>\n",
       "      <td>NaN</td>\n",
       "      <td>Southampton</td>\n",
       "      <td>no</td>\n",
       "      <td>False</td>\n",
       "    </tr>\n",
       "    <tr>\n",
       "      <th>1</th>\n",
       "      <td>1</td>\n",
       "      <td>1</td>\n",
       "      <td>female</td>\n",
       "      <td>38.0</td>\n",
       "      <td>1</td>\n",
       "      <td>0</td>\n",
       "      <td>71.2833</td>\n",
       "      <td>C</td>\n",
       "      <td>First</td>\n",
       "      <td>woman</td>\n",
       "      <td>False</td>\n",
       "      <td>C</td>\n",
       "      <td>Cherbourg</td>\n",
       "      <td>yes</td>\n",
       "      <td>False</td>\n",
       "    </tr>\n",
       "    <tr>\n",
       "      <th>2</th>\n",
       "      <td>1</td>\n",
       "      <td>3</td>\n",
       "      <td>female</td>\n",
       "      <td>26.0</td>\n",
       "      <td>0</td>\n",
       "      <td>0</td>\n",
       "      <td>7.9250</td>\n",
       "      <td>S</td>\n",
       "      <td>Third</td>\n",
       "      <td>woman</td>\n",
       "      <td>False</td>\n",
       "      <td>NaN</td>\n",
       "      <td>Southampton</td>\n",
       "      <td>yes</td>\n",
       "      <td>True</td>\n",
       "    </tr>\n",
       "    <tr>\n",
       "      <th>3</th>\n",
       "      <td>1</td>\n",
       "      <td>1</td>\n",
       "      <td>female</td>\n",
       "      <td>35.0</td>\n",
       "      <td>1</td>\n",
       "      <td>0</td>\n",
       "      <td>53.1000</td>\n",
       "      <td>S</td>\n",
       "      <td>First</td>\n",
       "      <td>woman</td>\n",
       "      <td>False</td>\n",
       "      <td>C</td>\n",
       "      <td>Southampton</td>\n",
       "      <td>yes</td>\n",
       "      <td>False</td>\n",
       "    </tr>\n",
       "    <tr>\n",
       "      <th>4</th>\n",
       "      <td>0</td>\n",
       "      <td>3</td>\n",
       "      <td>male</td>\n",
       "      <td>35.0</td>\n",
       "      <td>0</td>\n",
       "      <td>0</td>\n",
       "      <td>8.0500</td>\n",
       "      <td>S</td>\n",
       "      <td>Third</td>\n",
       "      <td>man</td>\n",
       "      <td>True</td>\n",
       "      <td>NaN</td>\n",
       "      <td>Southampton</td>\n",
       "      <td>no</td>\n",
       "      <td>True</td>\n",
       "    </tr>\n",
       "  </tbody>\n",
       "</table>\n",
       "</div>"
      ],
      "text/plain": [
       "   survived  pclass     sex   age  sibsp  parch     fare embarked  class  \\\n",
       "0         0       3    male  22.0      1      0   7.2500        S  Third   \n",
       "1         1       1  female  38.0      1      0  71.2833        C  First   \n",
       "2         1       3  female  26.0      0      0   7.9250        S  Third   \n",
       "3         1       1  female  35.0      1      0  53.1000        S  First   \n",
       "4         0       3    male  35.0      0      0   8.0500        S  Third   \n",
       "\n",
       "     who  adult_male deck  embark_town alive  alone  \n",
       "0    man        True  NaN  Southampton    no  False  \n",
       "1  woman       False    C    Cherbourg   yes  False  \n",
       "2  woman       False  NaN  Southampton   yes   True  \n",
       "3  woman       False    C  Southampton   yes  False  \n",
       "4    man        True  NaN  Southampton    no   True  "
      ]
     },
     "execution_count": 25,
     "metadata": {},
     "output_type": "execute_result"
    }
   ],
   "source": [
    "df.head()"
   ]
  },
  {
   "cell_type": "code",
   "execution_count": 26,
   "id": "ed6f08c1-f37f-4a78-af8e-78a29b110764",
   "metadata": {},
   "outputs": [
    {
     "data": {
      "text/plain": [
       "32.204207968574636"
      ]
     },
     "execution_count": 26,
     "metadata": {},
     "output_type": "execute_result"
    }
   ],
   "source": [
    "df['fare'].mean()"
   ]
  },
  {
   "cell_type": "markdown",
   "id": "7743f2ae-3466-4518-9425-ff09adb4fd90",
   "metadata": {},
   "source": [
    "Q12. For a normal distribution data what is the relationship between its measure of central tendency?"
   ]
  },
  {
   "cell_type": "markdown",
   "id": "410508cc-46e5-4d05-933b-e11dee8173fe",
   "metadata": {},
   "source": [
    "ans -: in normal distribution mean = meadian = mode"
   ]
  },
  {
   "cell_type": "markdown",
   "id": "e4454b6c-5cc0-49c4-98db-66c481eb4c63",
   "metadata": {},
   "source": [
    "Q13. How is covariance different from correlation?"
   ]
  },
  {
   "cell_type": "markdown",
   "id": "3767d457-fb83-421b-979c-1accdec53e02",
   "metadata": {},
   "source": [
    "ans = in covarriance relationship range of two data points is not specific and not define.\n",
    "\n",
    "In correlation relationship range of two data points in specific and -1 to 1."
   ]
  },
  {
   "cell_type": "markdown",
   "id": "99b6109c-c10b-471b-a0cb-9ce2fcf6b31a",
   "metadata": {},
   "source": [
    "Q14. How do outliers affect measures of central tendency and dispersion? Provide an example."
   ]
  },
  {
   "cell_type": "markdown",
   "id": "66bad3de-fab0-4229-ab73-cf7224ca9897",
   "metadata": {},
   "source": [
    "ans:-outlier is affects in data set given an example"
   ]
  },
  {
   "cell_type": "code",
   "execution_count": 37,
   "id": "94c441fe-2f06-4bea-b74a-4fe5fee58199",
   "metadata": {},
   "outputs": [],
   "source": [
    "student_marks = [45,78,25,41,63,78,96,58,74,96,45,35,45,78,96,45,78,12,45,12,63,12,45,25,78,12,96,85,25,45,78,52,63]"
   ]
  },
  {
   "cell_type": "code",
   "execution_count": 38,
   "id": "38d28ec7-99a1-48e8-8a46-a9d58b0ef051",
   "metadata": {},
   "outputs": [
    {
     "data": {
      "text/plain": [
       "<AxesSubplot: ylabel='Count'>"
      ]
     },
     "execution_count": 38,
     "metadata": {},
     "output_type": "execute_result"
    },
    {
     "data": {
      "image/png": "[encoded data removed]",
      "text/plain": [
       "<Figure size 640x480 with 1 Axes>"
      ]
     },
     "metadata": {},
     "output_type": "display_data"
    }
   ],
   "source": [
    "sns.histplot(student_marks)"
   ]
  },
  {
   "cell_type": "code",
   "execution_count": 32,
   "id": "73463ef9-b94b-49e9-8998-635329965ea1",
   "metadata": {},
   "outputs": [
    {
     "data": {
      "text/plain": [
       "<AxesSubplot: >"
      ]
     },
     "execution_count": 32,
     "metadata": {},
     "output_type": "execute_result"
    },
    {
     "data": {
      "image/png": "[encoded data removed]",
      "text/plain": [
       "<Figure size 640x480 with 1 Axes>"
      ]
     },
     "metadata": {},
     "output_type": "display_data"
    }
   ],
   "source": [
    "sns.boxplot(student_marks)"
   ]
  },
  {
   "cell_type": "code",
   "execution_count": 40,
   "id": "22b0205a-2e70-4007-9342-10b1b6007294",
   "metadata": {},
   "outputs": [
    {
     "data": {
      "text/plain": [
       "55.27272727272727"
      ]
     },
     "execution_count": 40,
     "metadata": {},
     "output_type": "execute_result"
    }
   ],
   "source": [
    "import numpy as np\n",
    "np.mean(student_marks)"
   ]
  },
  {
   "cell_type": "code",
   "execution_count": 41,
   "id": "7a2ea7bd-1a00-4b03-a36b-927b3178409b",
   "metadata": {},
   "outputs": [
    {
     "data": {
      "text/plain": [
       "52.0"
      ]
     },
     "execution_count": 41,
     "metadata": {},
     "output_type": "execute_result"
    }
   ],
   "source": [
    "np.median(student_marks)"
   ]
  },
  {
   "cell_type": "code",
   "execution_count": 42,
   "id": "7bd34e24-578b-4cae-bae2-8f914bd30cc2",
   "metadata": {},
   "outputs": [
    {
     "data": {
      "text/plain": [
       "689.6528925619835"
      ]
     },
     "execution_count": 42,
     "metadata": {},
     "output_type": "execute_result"
    }
   ],
   "source": [
    "np.var(student_marks)"
   ]
  },
  {
   "cell_type": "code",
   "execution_count": 43,
   "id": "96be1f5f-9459-42dd-9dce-b037642c85f8",
   "metadata": {},
   "outputs": [
    {
     "data": {
      "text/plain": [
       "26.261243164823398"
      ]
     },
     "execution_count": 43,
     "metadata": {},
     "output_type": "execute_result"
    }
   ],
   "source": [
    "np.std(student_marks)"
   ]
  },
  {
   "cell_type": "code",
   "execution_count": 44,
   "id": "b42a36f5-0659-4af2-ad17-4a5f879bbb38",
   "metadata": {},
   "outputs": [],
   "source": [
    "#outlier is present \n",
    "student_marks = [45,78,25,41,63,78,96,58,74,96,45,35,45,78,96,45,78,12,45,12,63,12,45,25,78,12,96,85,25,45,78,52,63,522,78,544,633,987]"
   ]
  },
  {
   "cell_type": "code",
   "execution_count": 34,
   "id": "9dce7ee2-d140-4eab-99db-94dbc3e17c58",
   "metadata": {},
   "outputs": [
    {
     "data": {
      "text/plain": [
       "<AxesSubplot: >"
      ]
     },
     "execution_count": 34,
     "metadata": {},
     "output_type": "execute_result"
    },
    {
     "data": {
      "image/png": "[encoded data removed]",
      "text/plain": [
       "<Figure size 640x480 with 1 Axes>"
      ]
     },
     "metadata": {},
     "output_type": "display_data"
    }
   ],
   "source": [
    "sns.boxplot(student_marks)"
   ]
  },
  {
   "cell_type": "code",
   "execution_count": 36,
   "id": "7a263950-5515-4267-b163-e23a0963a8c1",
   "metadata": {},
   "outputs": [
    {
     "data": {
      "text/plain": [
       "<AxesSubplot: ylabel='Count'>"
      ]
     },
     "execution_count": 36,
     "metadata": {},
     "output_type": "execute_result"
    },
    {
     "data": {
      "image/png": "[encoded data removed]",
      "text/plain": [
       "<Figure size 640x480 with 1 Axes>"
      ]
     },
     "metadata": {},
     "output_type": "display_data"
    }
   ],
   "source": [
    "sns.histplot(student_marks)"
   ]
  },
  {
   "cell_type": "code",
   "execution_count": 45,
   "id": "671c8ac7-b15c-4f92-8370-7178d1696913",
   "metadata": {},
   "outputs": [
    {
     "data": {
      "text/plain": [
       "120.73684210526316"
      ]
     },
     "execution_count": 45,
     "metadata": {},
     "output_type": "execute_result"
    }
   ],
   "source": [
    "np.mean(student_marks)"
   ]
  },
  {
   "cell_type": "code",
   "execution_count": 46,
   "id": "d8b7607e-9cef-4281-bb5f-c728e67511d5",
   "metadata": {},
   "outputs": [
    {
     "data": {
      "text/plain": [
       "63.0"
      ]
     },
     "execution_count": 46,
     "metadata": {},
     "output_type": "execute_result"
    }
   ],
   "source": [
    "np.median(student_marks)"
   ]
  },
  {
   "cell_type": "code",
   "execution_count": 47,
   "id": "317986a2-bcf8-4189-b2cc-36c3469e149a",
   "metadata": {},
   "outputs": [
    {
     "data": {
      "text/plain": [
       "39973.61495844875"
      ]
     },
     "execution_count": 47,
     "metadata": {},
     "output_type": "execute_result"
    }
   ],
   "source": [
    "np.var(student_marks)"
   ]
  },
  {
   "cell_type": "code",
   "execution_count": 48,
   "id": "69a5e5b0-f181-4d74-86a7-294322605dee",
   "metadata": {},
   "outputs": [
    {
     "data": {
      "text/plain": [
       "199.93402651487003"
      ]
     },
     "execution_count": 48,
     "metadata": {},
     "output_type": "execute_result"
    }
   ],
   "source": [
    "np.std(student_marks)"
   ]
  },
  {
   "cell_type": "code",
   "execution_count": null,
   "id": "5588fd28-7faf-4b56-b15f-3d1338114604",
   "metadata": {},
   "outputs": [],
   "source": []
  }
 ],
 "metadata": {
  "kernelspec": {
   "display_name": "Python 3 (ipykernel)",
   "language": "python",
   "name": "python3"
  },
  "language_info": {
   "codemirror_mode": {
    "name": "ipython",
    "version": 3
   },
   "file_extension": ".py",
   "mimetype": "text/x-python",
   "name": "python",
   "nbconvert_exporter": "python",
   "pygments_lexer": "ipython3",
   "version": "3.10.8"
  }
 },
 "nbformat": 4,
 "nbformat_minor": 5
}
