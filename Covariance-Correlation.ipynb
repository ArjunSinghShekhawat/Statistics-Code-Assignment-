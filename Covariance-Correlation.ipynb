{
 "cells": [
  {
   "cell_type": "code",
   "execution_count": null,
   "id": "f92ee1f4-7fe5-4d02-96cd-3a6f8dd71472",
   "metadata": {},
   "outputs": [],
   "source": [
    "Covariance and correlation"
   ]
  },
  {
   "cell_type": "code",
   "execution_count": null,
   "id": "163cbd65-5c87-465f-b9c3-0f5e4b36a1c2",
   "metadata": {},
   "outputs": [],
   "source": [
    "Covariance - define the relationship x and y\n",
    "1.Positive relation\n",
    "2.Negative relation\n",
    "\n",
    "Correlation - define the relationship x and y between range -1 to 1.\n",
    "1.Pearsion correlation\n",
    "2.spearman correlation\n"
   ]
  }
 ],
 "metadata": {
  "kernelspec": {
   "display_name": "Python 3 (ipykernel)",
   "language": "python",
   "name": "python3"
  },
  "language_info": {
   "codemirror_mode": {
    "name": "ipython",
    "version": 3
   },
   "file_extension": ".py",
   "mimetype": "text/x-python",
   "name": "python",
   "nbconvert_exporter": "python",
   "pygments_lexer": "ipython3",
   "version": "3.10.8"
  }
 },
 "nbformat": 4,
 "nbformat_minor": 5
}
