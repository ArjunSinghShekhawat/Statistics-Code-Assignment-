{
 "cells": [
  {
   "cell_type": "code",
   "execution_count": null,
   "id": "c5562495-0ad4-4afe-bf15-1ec762cab9b1",
   "metadata": {},
   "outputs": [],
   "source": [
    "Measure Of Central tendency"
   ]
  },
  {
   "cell_type": "code",
   "execution_count": null,
   "id": "501734b6-506f-4942-a39a-6bae6673a6bc",
   "metadata": {},
   "outputs": [],
   "source": [
    "Measure of Central tendency study \n",
    "1.Mean\n",
    "2.Median\n",
    "3.Mode\n",
    "\n",
    "Mean - Mean is define the central point in the distribution.\n",
    "Median - Median is define the central point when outlier is present.\n",
    "Mode - Mode is define the largest frequency element in the dataset.\n",
    "\n",
    "This concepts is used in EDA and feature engineering."
   ]
  }
 ],
 "metadata": {
  "kernelspec": {
   "display_name": "Python 3 (ipykernel)",
   "language": "python",
   "name": "python3"
  },
  "language_info": {
   "codemirror_mode": {
    "name": "ipython",
    "version": 3
   },
   "file_extension": ".py",
   "mimetype": "text/x-python",
   "name": "python",
   "nbconvert_exporter": "python",
   "pygments_lexer": "ipython3",
   "version": "3.10.8"
  }
 },
 "nbformat": 4,
 "nbformat_minor": 5
}
