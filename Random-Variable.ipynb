{
 "cells": [
  {
   "cell_type": "markdown",
   "id": "8738852c-abf4-445d-b61c-8f771964b465",
   "metadata": {},
   "source": [
    "Random Variable"
   ]
  },
  {
   "cell_type": "code",
   "execution_count": null,
   "id": "8e202eaf-58d6-4776-88a9-5234ce89c8dd",
   "metadata": {},
   "outputs": [],
   "source": [
    "Random variable is a process of mapping the output of a random process or experiment to a number."
   ]
  }
 ],
 "metadata": {
  "kernelspec": {
   "display_name": "Python 3 (ipykernel)",
   "language": "python",
   "name": "python3"
  },
  "language_info": {
   "codemirror_mode": {
    "name": "ipython",
    "version": 3
   },
   "file_extension": ".py",
   "mimetype": "text/x-python",
   "name": "python",
   "nbconvert_exporter": "python",
   "pygments_lexer": "ipython3",
   "version": "3.10.8"
  }
 },
 "nbformat": 4,
 "nbformat_minor": 5
}
